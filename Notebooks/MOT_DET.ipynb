{
 "cells": [
  {
   "cell_type": "markdown",
   "metadata": {},
   "source": [
    "## MOT17 and MOT20 Object Detection finetuning\n",
    "### This notebook is used to lunch the finetuning of FPN on MOT pedestrian detection benchmark, the code fetches COCO weights for weight initialization"
   ]
  },
  {
   "cell_type": "code",
   "execution_count": null,
   "metadata": {},
   "outputs": [],
   "source": [
    "#select the mot challenge to work with (two are available)\n",
    "mot_datasets = [\"MOT17\",\"MOT20\"]\n",
    "dataset = mot_datasets[0]"
   ]
  },
  {
   "cell_type": "code",
   "execution_count": null,
   "metadata": {},
   "outputs": [],
   "source": [
    "#Use the appropriate path for the selected benchmark\n",
    "data_path = \"../datasets/MOT/%s/train/\"%dataset"
   ]
  },
  {
   "cell_type": "code",
   "execution_count": null,
   "metadata": {},
   "outputs": [],
   "source": [
    "import detectron2\n",
    "from detectron2.utils.logger import setup_logger\n",
    "\n",
    "setup_logger()\n",
    "import csv\n",
    "# import some common libraries\n",
    "import numpy as np\n",
    "import cv2\n",
    "\n",
    "import random\n",
    "\n",
    "\n",
    "\n",
    "# import some common detectron2 utilities\n",
    "\n",
    "from detectron2.engine import DefaultPredictor\n",
    "from detectron2.config import get_cfg\n",
    "from detectron2.utils.visualizer import Visualizer\n",
    "from detectron2.data import MetadataCatalog\n",
    "from detectron2.modeling import build_model\n",
    "from detectron2.evaluation import COCOEvaluator,PascalVOCDetectionEvaluator\n",
    "import matplotlib.pyplot as plt\n",
    "import torch.tensor as tensor\n",
    "from detectron2.data import build_detection_test_loader\n",
    "from detectron2.evaluation import inference_on_dataset\n",
    "import torch\n",
    "from detectron2.structures.instances import Instances\n",
    "from detectron2.modeling import build_model\n",
    "%matplotlib inline"
   ]
  },
  {
   "cell_type": "markdown",
   "metadata": {},
   "source": [
    "## Dataset parsing"
   ]
  },
  {
   "cell_type": "code",
   "execution_count": null,
   "metadata": {},
   "outputs": [],
   "source": [
    "import os\n",
    "import numpy as np\n",
    "import json\n",
    "from detectron2.structures import BoxMode\n",
    "ARs=[]\n",
    "AR_cars = []\n",
    "AR_peds = []\n",
    "AR_cyc = []\n",
    "def get_mot_dicts(main_dir):\n",
    "        \n",
    "    dataset_dicts = []\n",
    "    \n",
    "    items = 0\n",
    "    car_count=0\n",
    "    cyc_count = 0\n",
    "    ped_count =0\n",
    "    objs = []\n",
    "    global_image_id = 1\n",
    "    for folder in os.listdir(main_dir):\n",
    "        print('processing folder' + folder)\n",
    "        img_folder = main_dir + folder + '/img1/'\n",
    "        print(img_folder)\n",
    "        gt_file = main_dir + folder + '/gt/gt.txt'\n",
    "        test_img = cv2.imread(img_folder + '000001.jpg')\n",
    "        \n",
    "        height, width =test_img.shape[:2]\n",
    "        print(folder + '%d x %d'%(width,height))\n",
    "        num_items = len(os.listdir(img_folder))\n",
    "        for i in range(1,num_items):\n",
    "            \n",
    "           \n",
    "            objs = []\n",
    "            record = {}\n",
    "            image_path = img_folder + str(i).zfill(6) + '.jpg'\n",
    "            record[\"file_name\"] = image_path\n",
    "            record[\"image_id\"] = global_image_id\n",
    "            global_image_id+=1\n",
    "            record[\"height\"] = height\n",
    "            record[\"width\"] = width\n",
    "            with open(gt_file, \"r\") as inf:\n",
    "                reader = csv.reader(inf, delimiter=',')\n",
    "                for row in reader:        \n",
    "                    \n",
    "                    if int(row[0]) == i and int(round(float(row[6]))) == 1 and int(round(float(row[7]))) == 1 and float(row[8]) >= 0.25:\n",
    "                        xmin = int(round(float(row[2])))\n",
    "                        ymin = int(round(float(row[3])))\n",
    "                        box_width = int(round(float(row[4])))\n",
    "                        box_height = int(round(float(row[5])))\n",
    "                        xmax = xmin+ box_width\n",
    "                        ymax = ymin + box_height\n",
    "                        \n",
    "                        \n",
    "\n",
    "                        obj = {'bbox':[xmin,ymin,xmax,ymax],\"category_id\": 0,\"iscrowd\": 0,\"bbox_mode\": BoxMode.XYXY_ABS}      \n",
    "\n",
    "                        \n",
    "                        \n",
    "\n",
    "                        objs.append(obj)\n",
    "            record[\"annotations\"] = objs\n",
    "            dataset_dicts.append(record)\n",
    "        \n",
    "          #if(items>100):\n",
    "            #break\n",
    "        break\n",
    "    \n",
    "    return dataset_dicts\n",
    "\n"
   ]
  },
  {
   "cell_type": "code",
   "execution_count": null,
   "metadata": {},
   "outputs": [],
   "source": [
    "from detectron2.data import DatasetCatalog, MetadataCatalog\n",
    "for d in [\"train\"]:\n",
    "    DatasetCatalog.register(\"%s_\"%dataset + d, lambda d=d: get_mot_dicts\n",
    "                            (data_path))\n",
    "    \n"
   ]
  },
  {
   "cell_type": "markdown",
   "metadata": {},
   "source": [
    "## Training Parameters"
   ]
  },
  {
   "cell_type": "code",
   "execution_count": null,
   "metadata": {},
   "outputs": [],
   "source": [
    "from detectron2.engine import DefaultTrainer\n",
    "from detectron2.config import get_cfg\n",
    "import os\n",
    "cfg = get_cfg()\n",
    "#cfg.merge_from_file(\"./detectron2_repo/configs/COCO-Detection/faster_rcnn_R_50_C4_3x.yaml\")\n",
    "cfg.merge_from_file(\"../configs/COCO-Detection/faster_rcnn_R_50_FPN_3x.yaml\")\n",
    "cfg.DATASETS.TRAIN = (\"%s_train\"%dataset,)\n",
    "cfg.DATASETS.TEST = ()\n",
    "cfg.DATALOADER.NUM_WORKERS = 2\n",
    "cfg.MODEL.WEIGHTS=\"https://dl.fbaipublicfiles.com/detectron2/COCO-Detection/faster_rcnn_R_50_FPN_3x/137849458/model_final_280758.pkl\"\n",
    "\n",
    "#cfg.MODEL.WEIGHTS = \"/media/DATA/Users/Issa/Models/MOT17_DET/model_final.pth\"\n",
    "cfg.SOLVER.IMS_PER_BATCH = 2\n",
    "cfg.SOLVER.BASE_LR = 0.00015  # pick a good LR\n",
    "cfg.SOLVER.MAX_ITER = 30000    # 300 iterations seems good enough for this toy dataset; you may need to train longer for a practical dataset\n",
    "cfg.MODEL.ROI_HEADS.BATCH_SIZE_PER_IMAGE = 512   # faster, and good enough for this toy dataset (default: 512)\n",
    "cfg.MODEL.ROI_HEADS.NUM_CLASSES=1\n",
    "  # only has one class (ballon)\n",
    "cfg.OUTPUT_DIR='../models/MOT/%s_DET'%dataset\n",
    "print(cfg.OUTPUT_DIR)\n",
    "print(cfg.MODEL.ANCHOR_GENERATOR)"
   ]
  },
  {
   "cell_type": "code",
   "execution_count": null,
   "metadata": {},
   "outputs": [],
   "source": [
    "#cfg.MODEL.ANCHOR_GENERATOR.ASPECT_RATIOS=[[0.25,0.5,1,2]]\n",
    "#cfg.MODEL.ANCHOR_GENERATOR.SIZES=[[32,64,128,256,512]]\n",
    "os.makedirs(cfg.OUTPUT_DIR, exist_ok=True)\n",
    "trainer = DefaultTrainer(cfg,False) \n"
   ]
  },
  {
   "cell_type": "code",
   "execution_count": null,
   "metadata": {
    "scrolled": true
   },
   "outputs": [],
   "source": [
    "trainer.resume_or_load(resume=True)\n",
    "trainer.train()"
   ]
  },
  {
   "cell_type": "code",
   "execution_count": null,
   "metadata": {},
   "outputs": [],
   "source": []
  }
 ],
 "metadata": {
  "kernelspec": {
   "display_name": "Python 3",
   "language": "python",
   "name": "python3"
  },
  "language_info": {
   "codemirror_mode": {
    "name": "ipython",
    "version": 3
   },
   "file_extension": ".py",
   "mimetype": "text/x-python",
   "name": "python",
   "nbconvert_exporter": "python",
   "pygments_lexer": "ipython3",
   "version": "3.6.4"
  }
 },
 "nbformat": 4,
 "nbformat_minor": 2
}
