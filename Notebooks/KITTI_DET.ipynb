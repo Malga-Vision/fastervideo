{
 "cells": [
  {
   "cell_type": "markdown",
   "metadata": {},
   "source": [
    "## KITTI Object Detection finetuning\n",
    "### This notebook is used to lunch the finetuning of FPN on KITTI object detection benchmark, the code fetches COCO weights for weight initialization"
   ]
  },
  {
   "cell_type": "code",
   "execution_count": null,
   "metadata": {},
   "outputs": [],
   "source": [
    "data_path = \"../datasets/KITTI/data_object_image_2/training\""
   ]
  },
  {
   "cell_type": "code",
   "execution_count": null,
   "metadata": {
    "colab": {},
    "colab_type": "code",
    "id": "i7bJ1j_ygxPx"
   },
   "outputs": [],
   "source": [
    "import detectron2\n",
    "from detectron2.utils.logger import setup_logger\n",
    "\n",
    "setup_logger()\n",
    "\n",
    "import numpy as np\n",
    "import cv2\n",
    "import random\n",
    "\n",
    "from detectron2.engine import DefaultPredictor\n",
    "from detectron2.config import get_cfg\n",
    "from detectron2.utils.visualizer import Visualizer\n",
    "from detectron2.data import MetadataCatalog\n",
    "from detectron2.modeling import build_model\n",
    "from detectron2.evaluation import COCOEvaluator,PascalVOCDetectionEvaluator\n",
    "import matplotlib.pyplot as plt\n",
    "import torch.tensor as tensor\n",
    "from detectron2.data import build_detection_test_loader\n",
    "from detectron2.evaluation import inference_on_dataset\n",
    "import torch\n",
    "from detectron2.structures.instances import Instances\n",
    "from detectron2.modeling import build_model\n",
    "%matplotlib inline"
   ]
  },
  {
   "cell_type": "markdown",
   "metadata": {},
   "source": [
    "## Dataset Parsing"
   ]
  },
  {
   "cell_type": "code",
   "execution_count": null,
   "metadata": {
    "colab": {},
    "colab_type": "code",
    "id": "-MHydV6Yhniv"
   },
   "outputs": [],
   "source": [
    "import os\n",
    "import numpy as np\n",
    "import json\n",
    "from detectron2.structures import BoxMode\n",
    "\n",
    "def get_kitti_dicts(img_dir):\n",
    "    \n",
    "    dataset_dicts = []\n",
    "    with open('../datasets/KITTI/kitti_train.txt') as f:\n",
    "        \n",
    "        for line in f:\n",
    "          record = {}\n",
    "          image_path = os.path.join(img_dir, 'image_2/%s.png'%line.replace('\\n',''))\n",
    "          height, width = cv2.imread(image_path).shape[:2]\n",
    "          record[\"file_name\"] = image_path\n",
    "          record[\"image_id\"] = int(line)\n",
    "          record[\"height\"] = height\n",
    "          record[\"width\"] = width\n",
    "          objs = []\n",
    "          ann_path = os.path.join(img_dir,'label_2/%s.txt'%line.replace('\\n',''))\n",
    "          with open(ann_path) as ann_file:\n",
    "            for ann_line in ann_file:\n",
    "              line_items = ann_line.split(' ')\n",
    "              \n",
    "              if(line_items[0]=='Car'):\n",
    "                  class_id=2\n",
    "                  \n",
    "              elif(line_items[0]=='Pedestrian'):\n",
    "                  class_id=0\n",
    "                  \n",
    "              elif(line_items[0]=='Cyclist'):\n",
    "                  class_id=1\n",
    "                  \n",
    "                  \n",
    "              else:\n",
    "                continue\n",
    "              obj = {'bbox':[np.round(float(line_items[4])),np.round(float(line_items[5])),\n",
    "                             np.round(float(line_items[6])),np.round(float(line_items[7]))],\"category_id\": class_id,\"iscrowd\": 0,\"bbox_mode\": BoxMode.XYXY_ABS}      \n",
    "              \n",
    "              objs.append(obj)\n",
    "          record[\"annotations\"] = objs\n",
    "          dataset_dicts.append(record)\n",
    "          items+=1\n",
    "          \n",
    "   \n",
    "    return dataset_dicts\n",
    "def get_kitti_val(img_dir):\n",
    "  \n",
    "    dataset_dicts = []\n",
    "    items = 0\n",
    "    with open('kitti_val.txt') as f:\n",
    "        \n",
    "        for line in f:\n",
    "          record = {}\n",
    "          image_path = os.path.join(img_dir, 'image_2/%s.png'%line.replace('\\n','').zfill(6))\n",
    "          \n",
    "          height, width = cv2.imread(image_path).shape[:2]\n",
    "          record[\"file_name\"] = image_path\n",
    "          record[\"image_id\"] = int(line)\n",
    "          record[\"height\"] = height\n",
    "          record[\"width\"] = width\n",
    "          objs = []\n",
    "          ann_path = os.path.join(img_dir,'label_2/%s.txt'%line.replace('\\n','').zfill(6))\n",
    "          with open(ann_path) as ann_file:\n",
    "            for ann_line in ann_file:\n",
    "              line_items = ann_line.split(' ')\n",
    "              if(line_items[0]=='Car'):\n",
    "                  class_id=2\n",
    "                  \n",
    "              elif(line_items[0]=='Pedestrian'):\n",
    "                  class_id=0\n",
    "              elif(line_items[0]=='Cyclist'):\n",
    "                  class_id=1\n",
    "              else:\n",
    "                continue\n",
    "              obj = {'bbox':[np.round(float(line_items[4])),np.round(float(line_items[5])),\n",
    "                             np.round(float(line_items[6])),np.round(float(line_items[7]))],\"category_id\": class_id,\"iscrowd\": 0,\"bbox_mode\": BoxMode.XYXY_ABS}      \n",
    "              objs.append(obj)\n",
    "          record[\"annotations\"] = objs\n",
    "          dataset_dicts.append(record)\n",
    "          items+=1\n",
    "          \n",
    "    return dataset_dicts\n"
   ]
  },
  {
   "cell_type": "code",
   "execution_count": null,
   "metadata": {
    "colab": {},
    "colab_type": "code",
    "id": "yumbl96BoUWt"
   },
   "outputs": [],
   "source": [
    "from detectron2.data import DatasetCatalog, MetadataCatalog\n",
    "for d in [\"train\", \"val\"]:\n",
    "    DatasetCatalog.register(\"kitti_\" + d, lambda d=d: get_kitti_dicts(data_path))\n",
    "    \n"
   ]
  },
  {
   "cell_type": "markdown",
   "metadata": {},
   "source": [
    "## Training Parameters"
   ]
  },
  {
   "cell_type": "code",
   "execution_count": null,
   "metadata": {
    "scrolled": true
   },
   "outputs": [],
   "source": [
    "from detectron2.engine import DefaultTrainer\n",
    "from detectron2.config import get_cfg\n",
    "import os\n",
    "cfg = get_cfg())\n",
    "cfg.merge_from_file(\"../configs/COCO-Detection/faster_rcnn_R_50_FPN_3x.yaml\")\n",
    "cfg.DATASETS.TRAIN = (\"kitti_train\",)\n",
    "cfg.DATASETS.TEST = ()\n",
    "cfg.DATALOADER.NUM_WORKERS = 2\n",
    "#load coco weights\n",
    "cfg.MODEL.WEIGHTS=\"https://dl.fbaipublicfiles.com/detectron2/COCO-Detection/faster_rcnn_R_50_FPN_3x/137849458/model_final_280758.pkl\"\n",
    "cfg.SOLVER.IMS_PER_BATCH = 2\n",
    "cfg.SOLVER.BASE_LR = 0.0025  # pick a good LR\n",
    "cfg.SOLVER.MAX_ITER = 20000 \n",
    "cfg.MODEL.ROI_HEADS.BATCH_SIZE_PER_IMAGE = 512   #(default: 512)\n",
    "\n",
    "cfg.OUTPUT_DIR='../models/KITTI/KITTI_DET'\n"
   ]
  },
  {
   "cell_type": "markdown",
   "metadata": {},
   "source": [
    "### Initialize the trainer and load the dataset"
   ]
  },
  {
   "cell_type": "code",
   "execution_count": null,
   "metadata": {
    "colab": {
     "base_uri": "https://localhost:8080/",
     "height": 1000
    },
    "colab_type": "code",
    "executionInfo": {
     "elapsed": 1680576,
     "status": "ok",
     "timestamp": 1579085568597,
     "user": {
      "displayName": "Issa Mouawad",
      "photoUrl": "https://lh3.googleusercontent.com/a-/AAuE7mC4MQNrCOLVZp6wyxyAhCMqw8Udn-UEuh66kHi9qw=s64",
      "userId": "16526136313232193808"
     },
     "user_tz": -60
    },
    "id": "i1eMHN9LiTqL",
    "outputId": "1ebedd7e-522e-482d-f3e4-c3e8b9bdb84b",
    "scrolled": true
   },
   "outputs": [],
   "source": [
    "\n",
    "os.makedirs(cfg.OUTPUT_DIR, exist_ok=True)\n",
    "trainer = DefaultTrainer(cfg,False) \n"
   ]
  },
  {
   "cell_type": "markdown",
   "metadata": {},
   "source": [
    "### Begin Training"
   ]
  },
  {
   "cell_type": "code",
   "execution_count": null,
   "metadata": {
    "scrolled": true
   },
   "outputs": [],
   "source": [
    "trainer.resume_or_load(resume=False)\n",
    "trainer.train()"
   ]
  },
  {
   "cell_type": "code",
   "execution_count": null,
   "metadata": {},
   "outputs": [],
   "source": []
  }
 ],
 "metadata": {
  "accelerator": "GPU",
  "colab": {
   "authorship_tag": "ABX9TyNiw1rmxSMUz901Z8O+MdyR",
   "collapsed_sections": [],
   "name": "KITTI Finetuning.ipynb",
   "provenance": []
  },
  "kernelspec": {
   "display_name": "Python 3",
   "language": "python",
   "name": "python3"
  },
  "language_info": {
   "codemirror_mode": {
    "name": "ipython",
    "version": 3
   },
   "file_extension": ".py",
   "mimetype": "text/x-python",
   "name": "python",
   "nbconvert_exporter": "python",
   "pygments_lexer": "ipython3",
   "version": "3.7.9"
  }
 },
 "nbformat": 4,
 "nbformat_minor": 1
}
